{
 "cells": [
  {
   "cell_type": "code",
   "execution_count": 2,
   "metadata": {},
   "outputs": [],
   "source": [
    "import pandas as pd\n",
    "\n",
    "# Load your CSV file\n",
    "file_path_csv = 'filtered_data_above_18.csv'\n",
    "data = pd.read_csv(file_path_csv)\n",
    "\n",
    "\n"
   ]
  },
  {
   "cell_type": "code",
   "execution_count": 3,
   "metadata": {},
   "outputs": [
    {
     "name": "stdout",
     "output_type": "stream",
     "text": [
      "Data with generations has been saved to data_with_generations.csv\n"
     ]
    }
   ],
   "source": [
    "# Define age ranges for each generation\n",
    "generations = {\n",
    "    'Generation Z': ['18 ปี', '19 ปี', '20 ปี', '21 ปี'],\n",
    "    'Millennials': ['22 ปี', '23 ปี', '24 ปี', '25 ปี', '26 ปี', '27 ปี', '28 ปี', '29 ปี', '30 ปี', '31 ปี', '32 ปี', '33 ปี', '34 ปี', '35 ปี', '36 ปี', '37 ปี'],\n",
    "    'Generation X': ['38 ปี', '39 ปี', '40 ปี', '41 ปี', '42 ปี', '43 ปี', '44 ปี', '45 ปี', '46 ปี', '47 ปี', '48 ปี', '49 ปี', '50 ปี', '51 ปี', '52 ปี', '53 ปี'],\n",
    "    'Baby Boomers': ['54 ปี', '55 ปี', '56 ปี', '57 ปี', '58 ปี', '59 ปี', '60 ปี', '61 ปี', '62 ปี', '63 ปี', '64 ปี', '65 ปี', '66 ปี', '67 ปี', '68 ปี', '69 ปี', '70 ปี', '71 ปี', '72 ปี'],\n",
    "    'Silent Generation': ['73 ปี', '74 ปี', '75 ปี', '76 ปี', '77 ปี', '78 ปี', '79 ปี', '80 ปี', '81 ปี', '82 ปี', '83 ปี', '84 ปี', '85 ปี', '86 ปี', '87 ปี', '88 ปี', '89 ปี', '90 ปี', '91 ปี', '92 ปี', '93 ปี', '94 ปี', '95 ปี', '96 ปี', '97 ปี', '98 ปี', '99 ปี', '100 ปี', '> 100 ปี']\n",
    "}\n",
    "\n",
    "# Ensure all generation age columns are numeric\n",
    "for generation, ages in generations.items():\n",
    "    for age in ages:\n",
    "        if age in data.columns:\n",
    "            data[age] = pd.to_numeric(data[age], errors='coerce').fillna(0)\n",
    "\n",
    "# Create new columns for each generation and sum the relevant age groups\n",
    "for generation, ages in generations.items():\n",
    "    valid_ages = [age for age in ages if age in data.columns]\n",
    "    data[generation] = data[valid_ages].sum(axis=1)\n",
    "\n",
    "# Drop individual age columns (optional, keep if you need them for further analysis)\n",
    "data_filtered = data.drop(columns=[age for ages in generations.values() for age in ages if age in data.columns])\n",
    "\n",
    "# Save the new data with generation columns to a CSV file\n",
    "output_path_csv = 'data_with_generations.csv'\n",
    "data_filtered.to_csv(output_path_csv, index=False)\n",
    "\n",
    "# Print the result\n",
    "print(f\"Data with generations has been saved to {output_path_csv}\")"
   ]
  }
 ],
 "metadata": {
  "kernelspec": {
   "display_name": "Python 3",
   "language": "python",
   "name": "python3"
  },
  "language_info": {
   "codemirror_mode": {
    "name": "ipython",
    "version": 3
   },
   "file_extension": ".py",
   "mimetype": "text/x-python",
   "name": "python",
   "nbconvert_exporter": "python",
   "pygments_lexer": "ipython3",
   "version": "3.12.3"
  }
 },
 "nbformat": 4,
 "nbformat_minor": 2
}
