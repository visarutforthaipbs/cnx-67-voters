{
 "cells": [
  {
   "cell_type": "code",
   "execution_count": 1,
   "metadata": {},
   "outputs": [
    {
     "name": "stdout",
     "output_type": "stream",
     "text": [
      "Columns in the CSV file: Index(['ปีเดือน', 'รหัสจังหวัด', 'ชื่อจังหวัด', 'รหัสสำนักทะเบียน',\n",
      "       'ชื่อสำนักทะเบียน', 'รหัสตำบล', 'ชื่อตำบล', 'จำนวนประชากรชายทั้งหมด',\n",
      "       'จำนวนประชากรหญิงทั้งหมด', 'ผลรวมประชากรทั้งหมด',\n",
      "       'Calculated Total Population', 'Difference', 'Generation Z',\n",
      "       'Millennials', 'Generation X', 'Baby Boomers', 'Silent Generation'],\n",
      "      dtype='object')\n",
      "Total population for each generation:\n",
      "Generation Z: 76233.0\n",
      "Millennials: 360859.0\n",
      "Generation X: 368760.0\n",
      "Baby Boomers: 426031.0\n",
      "Silent Generation: 111455.0\n"
     ]
    }
   ],
   "source": [
    "import pandas as pd\n",
    "\n",
    "# Load the provided CSV file\n",
    "file_path_csv = 'data_with_generations.csv'\n",
    "data = pd.read_csv(file_path_csv)\n",
    "\n",
    "# Verify the column names to ensure they match the expected generation names\n",
    "print(\"Columns in the CSV file:\", data.columns)\n",
    "\n",
    "# Define the columns corresponding to each generation\n",
    "# Adjust the names if necessary after verifying the columns\n",
    "generation_columns = {\n",
    "    'Generation Z': 'Generation Z',\n",
    "    'Millennials': 'Millennials',\n",
    "    'Generation X': 'Generation X',\n",
    "    'Baby Boomers': 'Baby Boomers',\n",
    "    'Silent Generation': 'Silent Generation'\n",
    "}\n",
    "\n",
    "# Calculate the total sum for each generation\n",
    "generation_totals = {gen: data[col].sum() for gen, col in generation_columns.items()}\n",
    "\n",
    "# Display the results\n",
    "print(\"Total population for each generation:\")\n",
    "for generation, total in generation_totals.items():\n",
    "    print(f\"{generation}: {total}\")\n"
   ]
  }
 ],
 "metadata": {
  "kernelspec": {
   "display_name": "Python 3",
   "language": "python",
   "name": "python3"
  },
  "language_info": {
   "codemirror_mode": {
    "name": "ipython",
    "version": 3
   },
   "file_extension": ".py",
   "mimetype": "text/x-python",
   "name": "python",
   "nbconvert_exporter": "python",
   "pygments_lexer": "ipython3",
   "version": "3.12.3"
  }
 },
 "nbformat": 4,
 "nbformat_minor": 2
}
