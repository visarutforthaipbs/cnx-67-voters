{
 "cells": [
  {
   "cell_type": "code",
   "execution_count": 1,
   "metadata": {},
   "outputs": [
    {
     "name": "stdout",
     "output_type": "stream",
     "text": [
      "The total sum of the 'Calculated Total Population' column is: 1630426.0\n"
     ]
    }
   ],
   "source": [
    "import pandas as pd\n",
    "\n",
    "# Load your CSV file\n",
    "file_path_csv = 'combined_data.csv'\n",
    "data = pd.read_csv(file_path_csv)\n",
    "\n",
    "# Ensure 'Calculated Total Population' column is numeric\n",
    "data['Calculated Total Population'] = pd.to_numeric(data['Calculated Total Population'], errors='coerce')\n",
    "\n",
    "# Calculate the total sum of the 'Calculated Total Population' column\n",
    "total_sum = data['Calculated Total Population'].sum()\n",
    "\n",
    "# Print the result\n",
    "print(f\"The total sum of the 'Calculated Total Population' column is: {total_sum}\")\n"
   ]
  },
  {
   "cell_type": "code",
   "execution_count": 2,
   "metadata": {},
   "outputs": [
    {
     "name": "stdout",
     "output_type": "stream",
     "text": [
      "Filtered data has been saved to filtered_data_above_18.csv\n",
      "Columns for age groups below 18 have been removed.\n"
     ]
    }
   ],
   "source": [
    "\n",
    "# List of age groups to keep (18 years and above)\n",
    "age_groups_to_keep = [\n",
    "    '18 ปี', '19 ปี', '20 ปี', '21 ปี', '22 ปี', '23 ปี', '24 ปี', '25 ปี',\n",
    "    '26 ปี', '27 ปี', '28 ปี', '29 ปี', '30 ปี', '31 ปี', '32 ปี', '33 ปี',\n",
    "    '34 ปี', '35 ปี', '36 ปี', '37 ปี', '38 ปี', '39 ปี', '40 ปี', '41 ปี',\n",
    "    '42 ปี', '43 ปี', '44 ปี', '45 ปี', '46 ปี', '47 ปี', '48 ปี', '49 ปี',\n",
    "    '50 ปี', '51 ปี', '52 ปี', '53 ปี', '54 ปี', '55 ปี', '56 ปี', '57 ปี',\n",
    "    '58 ปี', '59 ปี', '60 ปี', '61 ปี', '62 ปี', '63 ปี', '64 ปี', '65 ปี',\n",
    "    '66 ปี', '67 ปี', '68 ปี', '69 ปี', '70 ปี', '71 ปี', '72 ปี', '73 ปี',\n",
    "    '74 ปี', '75 ปี', '76 ปี', '77 ปี', '78 ปี', '79 ปี', '80 ปี', '81 ปี',\n",
    "    '82 ปี', '83 ปี', '84 ปี', '85 ปี', '86 ปี', '87 ปี', '88 ปี', '89 ปี',\n",
    "    '90 ปี', '91 ปี', '92 ปี', '93 ปี', '94 ปี', '95 ปี', '96 ปี', '97 ปี',\n",
    "    '98 ปี', '99 ปี', '100 ปี', '> 100 ปี'\n",
    "]\n",
    "\n",
    "# List of all age groups in the DataFrame\n",
    "all_age_groups = [col for col in data.columns if col.endswith('ปี')]\n",
    "\n",
    "# Determine age groups to drop (below 18)\n",
    "age_groups_to_drop = [age for age in all_age_groups if age not in age_groups_to_keep]\n",
    "\n",
    "# Drop the columns for age groups below 18\n",
    "data_filtered = data.drop(columns=age_groups_to_drop)\n",
    "\n",
    "# Save the filtered data to a new CSV file\n",
    "output_path_csv = 'filtered_data_above_18.csv'\n",
    "data_filtered.to_csv(output_path_csv, index=False)\n",
    "\n",
    "# Print the result\n",
    "print(f\"Filtered data has been saved to {output_path_csv}\")\n",
    "print(f\"Columns for age groups below 18 have been removed.\")"
   ]
  }
 ],
 "metadata": {
  "kernelspec": {
   "display_name": "Python 3",
   "language": "python",
   "name": "python3"
  },
  "language_info": {
   "codemirror_mode": {
    "name": "ipython",
    "version": 3
   },
   "file_extension": ".py",
   "mimetype": "text/x-python",
   "name": "python",
   "nbconvert_exporter": "python",
   "pygments_lexer": "ipython3",
   "version": "3.12.3"
  }
 },
 "nbformat": 4,
 "nbformat_minor": 2
}
