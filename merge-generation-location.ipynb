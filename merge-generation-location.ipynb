{
 "cells": [
  {
   "cell_type": "code",
   "execution_count": null,
   "metadata": {},
   "outputs": [],
   "source": [
    "import geopandas as gpd\n",
    "\n",
    "# Load the GeoJSON file\n",
    "geojson_path = 'cnx-tambon.geojson'  # Update with the actual path to your file\n",
    "geo_data = gpd.read_file(geojson_path)\n",
    "\n",
    "# Display the first few rows to verify\n",
    "print(\"GeoJSON Data:\")\n",
    "print(geo_data.head())\n"
   ]
  },
  {
   "cell_type": "code",
   "execution_count": null,
   "metadata": {},
   "outputs": [],
   "source": [
    "import geopandas as gpd\n",
    "\n",
    "# Load the GeoJSON file\n",
    "geojson_path = 'cnx-tambon.geojson'\n",
    "geo_data = gpd.read_file(geojson_path)\n",
    "\n",
    "# Display the first few rows to verify\n",
    "print(\"GeoJSON Data:\")\n",
    "print(geo_data.head())\n"
   ]
  },
  {
   "cell_type": "code",
   "execution_count": null,
   "metadata": {},
   "outputs": [],
   "source": [
    "# Load the CSV file\n",
    "csv_path = 'data_with_generations copy.csv'\n",
    "csv_data = pd.read_csv(csv_path)\n",
    "\n",
    "# Verify the CSV columns\n",
    "print(\"CSV Columns:\", csv_data.columns)\n"
   ]
  },
  {
   "cell_type": "code",
   "execution_count": null,
   "metadata": {},
   "outputs": [],
   "source": [
    "# Ensure the key columns are of the same type for merging\n",
    "geo_data['TambonID'] = geo_data['TambonID'].astype(str)\n",
    "csv_data['รหัสตำบล'] = csv_data['รหัสตำบล'].astype(str)\n",
    "\n",
    "# Merge the GeoJSON and CSV data\n",
    "merged_data = geo_data.merge(csv_data, left_on='TambonID', right_on='รหัสตำบล')\n",
    "\n",
    "# Check the merged data\n",
    "print(merged_data.head())\n"
   ]
  }
 ],
 "metadata": {
  "kernelspec": {
   "display_name": "Python 3",
   "language": "python",
   "name": "python3"
  },
  "language_info": {
   "codemirror_mode": {
    "name": "ipython",
    "version": 3
   },
   "file_extension": ".py",
   "mimetype": "text/x-python",
   "name": "python",
   "nbconvert_exporter": "python",
   "pygments_lexer": "ipython3",
   "version": "3.12.3"
  }
 },
 "nbformat": 4,
 "nbformat_minor": 2
}
