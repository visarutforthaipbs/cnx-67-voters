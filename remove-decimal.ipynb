{
 "cells": [
  {
   "cell_type": "code",
   "execution_count": 3,
   "metadata": {},
   "outputs": [
    {
     "name": "stdout",
     "output_type": "stream",
     "text": [
      "Data without decimals has been saved to data_without_decimals.csv\n"
     ]
    }
   ],
   "source": [
    "import pandas as pd\n",
    "\n",
    "# Load the CSV file\n",
    "file_path_csv = 'data_with_generations copy.csv'  # Update with the actual path\n",
    "data = pd.read_csv(file_path_csv)\n",
    "\n",
    "# Fill NaN values with 0 before converting to integers\n",
    "for col in data.select_dtypes(include=['float', 'int']).columns:\n",
    "    data[col] = data[col].fillna(0).astype(int)\n",
    "\n",
    "# Save the modified data to a new CSV file\n",
    "output_path_csv = 'data_without_decimals.csv'\n",
    "data.to_csv(output_path_csv, index=False)\n",
    "\n",
    "print(f\"Data without decimals has been saved to {output_path_csv}\")\n"
   ]
  }
 ],
 "metadata": {
  "kernelspec": {
   "display_name": "Python 3",
   "language": "python",
   "name": "python3"
  },
  "language_info": {
   "codemirror_mode": {
    "name": "ipython",
    "version": 3
   },
   "file_extension": ".py",
   "mimetype": "text/x-python",
   "name": "python",
   "nbconvert_exporter": "python",
   "pygments_lexer": "ipython3",
   "version": "3.12.3"
  }
 },
 "nbformat": 4,
 "nbformat_minor": 2
}
